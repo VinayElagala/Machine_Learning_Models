{
  "cells": [
    {
      "cell_type": "markdown",
      "metadata": {
        "id": "695mJxpDl9TZ"
      },
      "source": [
        "Installing Seaborn"
      ]
    },
    {
      "cell_type": "code",
      "execution_count": null,
      "metadata": {
        "cellView": "code",
        "colab": {
          "base_uri": "https://localhost:8080/"
        },
        "id": "PoHqY78-K4HD",
        "outputId": "d95e5cb6-6c7d-4512-adb1-8ca1a62192d3"
      },
      "outputs": [
        {
          "output_type": "stream",
          "name": "stdout",
          "text": [
            "Looking in indexes: https://pypi.org/simple, https://us-python.pkg.dev/colab-wheels/public/simple/\n",
            "Collecting seaborn==0.9.0\n",
            "  Downloading seaborn-0.9.0-py3-none-any.whl (208 kB)\n",
            "\u001b[2K     \u001b[90m━━━━━━━━━━━━━━━━━━━━━━━━━━━━━━━━━━━━━━\u001b[0m \u001b[32m208.1/208.1 kB\u001b[0m \u001b[31m15.2 MB/s\u001b[0m eta \u001b[36m0:00:00\u001b[0m\n",
            "\u001b[?25hRequirement already satisfied: pandas>=0.15.2 in /usr/local/lib/python3.10/dist-packages (from seaborn==0.9.0) (1.5.3)\n",
            "Requirement already satisfied: numpy>=1.9.3 in /usr/local/lib/python3.10/dist-packages (from seaborn==0.9.0) (1.22.4)\n",
            "Requirement already satisfied: matplotlib>=1.4.3 in /usr/local/lib/python3.10/dist-packages (from seaborn==0.9.0) (3.7.1)\n",
            "Requirement already satisfied: scipy>=0.14.0 in /usr/local/lib/python3.10/dist-packages (from seaborn==0.9.0) (1.10.1)\n",
            "Requirement already satisfied: python-dateutil>=2.7 in /usr/local/lib/python3.10/dist-packages (from matplotlib>=1.4.3->seaborn==0.9.0) (2.8.2)\n",
            "Requirement already satisfied: pyparsing>=2.3.1 in /usr/local/lib/python3.10/dist-packages (from matplotlib>=1.4.3->seaborn==0.9.0) (3.0.9)\n",
            "Requirement already satisfied: kiwisolver>=1.0.1 in /usr/local/lib/python3.10/dist-packages (from matplotlib>=1.4.3->seaborn==0.9.0) (1.4.4)\n",
            "Requirement already satisfied: pillow>=6.2.0 in /usr/local/lib/python3.10/dist-packages (from matplotlib>=1.4.3->seaborn==0.9.0) (8.4.0)\n",
            "Requirement already satisfied: contourpy>=1.0.1 in /usr/local/lib/python3.10/dist-packages (from matplotlib>=1.4.3->seaborn==0.9.0) (1.0.7)\n",
            "Requirement already satisfied: fonttools>=4.22.0 in /usr/local/lib/python3.10/dist-packages (from matplotlib>=1.4.3->seaborn==0.9.0) (4.39.3)\n",
            "Requirement already satisfied: packaging>=20.0 in /usr/local/lib/python3.10/dist-packages (from matplotlib>=1.4.3->seaborn==0.9.0) (23.1)\n",
            "Requirement already satisfied: cycler>=0.10 in /usr/local/lib/python3.10/dist-packages (from matplotlib>=1.4.3->seaborn==0.9.0) (0.11.0)\n",
            "Requirement already satisfied: pytz>=2020.1 in /usr/local/lib/python3.10/dist-packages (from pandas>=0.15.2->seaborn==0.9.0) (2022.7.1)\n",
            "Requirement already satisfied: six>=1.5 in /usr/local/lib/python3.10/dist-packages (from python-dateutil>=2.7->matplotlib>=1.4.3->seaborn==0.9.0) (1.16.0)\n",
            "Installing collected packages: seaborn\n",
            "  Attempting uninstall: seaborn\n",
            "    Found existing installation: seaborn 0.12.2\n",
            "    Uninstalling seaborn-0.12.2:\n",
            "      Successfully uninstalled seaborn-0.12.2\n",
            "Successfully installed seaborn-0.9.0\n"
          ]
        }
      ],
      "source": [
        "!pip install seaborn==0.9.0"
      ]
    },
    {
      "cell_type": "markdown",
      "metadata": {
        "id": "yUqJ4beHKw5U"
      },
      "source": [
        "Importing Modules and Classes"
      ]
    },
    {
      "cell_type": "code",
      "execution_count": null,
      "metadata": {
        "id": "wAh5I2V_Kqxa"
      },
      "outputs": [],
      "source": [
        "import pandas as pd\n",
        "import numpy as np\n",
        "import matplotlib.pyplot as plt\n",
        "import seaborn as sns\n",
        "import matplotlib.pyplot as plt\n",
        "from sklearn.model_selection import train_test_split\n",
        "from sklearn import tree\n",
        "from sklearn.tree import export_graphviz               \n",
        "from sklearn.metrics import accuracy_score, confusion_matrix                        \n",
        "import statsmodels.api as sn                                           \n",
        "from sklearn import model_selection                                                              \n",
        "import statsmodels.api as sm\n",
        "np.random.seed(123) \n",
        "pd.options.mode.chained_assignment = None"
      ]
    },
    {
      "cell_type": "markdown",
      "metadata": {
        "id": "Tb80XOVkLLDb"
      },
      "source": [
        "Reading CSV dataset"
      ]
    },
    {
      "cell_type": "code",
      "execution_count": null,
      "metadata": {
        "id": "jOU8iAsELNtx"
      },
      "outputs": [],
      "source": [
        "data = pd.read_csv(\"/content/Merge.csv\")"
      ]
    },
    {
      "cell_type": "code",
      "execution_count": null,
      "metadata": {
        "colab": {
          "base_uri": "https://localhost:8080/"
        },
        "id": "QJZZvW-MLVWz",
        "outputId": "4f1cebbd-a6fc-4225-dc72-e46883d9b2d9"
      },
      "outputs": [
        {
          "output_type": "stream",
          "name": "stdout",
          "text": [
            "<class 'pandas.core.frame.DataFrame'>\n",
            "RangeIndex: 1328 entries, 0 to 1327\n",
            "Data columns (total 14 columns):\n",
            " #   Column   Non-Null Count  Dtype  \n",
            "---  ------   --------------  -----  \n",
            " 0   age      1328 non-null   int64  \n",
            " 1   sex      1328 non-null   int64  \n",
            " 2   cp       1328 non-null   int64  \n",
            " 3   restbps  1328 non-null   int64  \n",
            " 4   chol     1328 non-null   int64  \n",
            " 5   fbs      1328 non-null   int64  \n",
            " 6   restecg  1328 non-null   int64  \n",
            " 7   maxhra   1328 non-null   int64  \n",
            " 8   exang    1328 non-null   int64  \n",
            " 9   oldpeak  1328 non-null   float64\n",
            " 10  slope    1328 non-null   int64  \n",
            " 11  ca       1328 non-null   int64  \n",
            " 12  thal     1328 non-null   int64  \n",
            " 13  target   1328 non-null   int64  \n",
            "dtypes: float64(1), int64(13)\n",
            "memory usage: 145.4 KB\n"
          ]
        }
      ],
      "source": [
        "data.info()"
      ]
    },
    {
      "cell_type": "code",
      "execution_count": null,
      "metadata": {
        "id": "ZB7TGsvJLa7o"
      },
      "outputs": [],
      "source": [
        "info = [\"age\",\"1: male, 0: female\",\"chest pain type, 1: typical angina, 2: atypical angina, 3: non-anginal pain, 4: asymptomatic\",\"resting blood pressure\",\" serum cholestoral in mg/dl\",\"fasting blood sugar > 120 mg/dl\",\"resting electrocardiographic results (values 0,1,2)\",\" maximum heart rate achieved\",\"exercise induced angina\",\"oldpeak = ST depression induced by exercise relative to rest\",\"the slope of the peak exercise ST segment\",\"number of major vessels (0-3) colored by flourosopy\",\"thal: 3 = normal; 6 = fixed defect; 7 = reversable defect\"]"
      ]
    },
    {
      "cell_type": "code",
      "execution_count": null,
      "metadata": {
        "colab": {
          "base_uri": "https://localhost:8080/"
        },
        "id": "GhKLGymkLcqZ",
        "outputId": "2a8b5a1e-d748-44d3-f59f-676d508d6a01"
      },
      "outputs": [
        {
          "output_type": "stream",
          "name": "stdout",
          "text": [
            "age:\t\t\tage\n",
            "sex:\t\t\t1: male, 0: female\n",
            "cp:\t\t\tchest pain type, 1: typical angina, 2: atypical angina, 3: non-anginal pain, 4: asymptomatic\n",
            "restbps:\t\t\tresting blood pressure\n",
            "chol:\t\t\t serum cholestoral in mg/dl\n",
            "fbs:\t\t\tfasting blood sugar > 120 mg/dl\n",
            "restecg:\t\t\tresting electrocardiographic results (values 0,1,2)\n",
            "maxhra:\t\t\t maximum heart rate achieved\n",
            "exang:\t\t\texercise induced angina\n",
            "oldpeak:\t\t\toldpeak = ST depression induced by exercise relative to rest\n",
            "slope:\t\t\tthe slope of the peak exercise ST segment\n",
            "ca:\t\t\tnumber of major vessels (0-3) colored by flourosopy\n",
            "thal:\t\t\tthal: 3 = normal; 6 = fixed defect; 7 = reversable defect\n"
          ]
        }
      ],
      "source": [
        "for i in range(len(info)):\n",
        "    print(data.columns[i]+\":\\t\\t\\t\"+info[i])\n"
      ]
    },
    {
      "cell_type": "markdown",
      "metadata": {
        "id": "rz_M3dgyLo3v"
      },
      "source": [
        "Size of Dataset"
      ]
    },
    {
      "cell_type": "code",
      "execution_count": null,
      "metadata": {
        "colab": {
          "base_uri": "https://localhost:8080/"
        },
        "id": "-VcIoVZRLoZB",
        "outputId": "32d76395-9e52-4f7e-e672-83c0d6f73e69"
      },
      "outputs": [
        {
          "output_type": "execute_result",
          "data": {
            "text/plain": [
              "(1328, 14)"
            ]
          },
          "metadata": {},
          "execution_count": 7
        }
      ],
      "source": [
        "data.shape"
      ]
    },
    {
      "cell_type": "markdown",
      "metadata": {
        "id": "Z7Wv0S0TLv4L"
      },
      "source": [
        "Explore Data Analysis"
      ]
    },
    {
      "cell_type": "code",
      "execution_count": null,
      "metadata": {
        "colab": {
          "base_uri": "https://localhost:8080/",
          "height": 371
        },
        "id": "7u_F_MpWLyCl",
        "outputId": "806d96b8-838b-4927-860c-999b01a7e435"
      },
      "outputs": [
        {
          "output_type": "stream",
          "name": "stdout",
          "text": [
            "1    691\n",
            "0    637\n",
            "Name: target, dtype: int64\n"
          ]
        },
        {
          "output_type": "display_data",
          "data": {
            "text/plain": [
              "<Figure size 300x300 with 1 Axes>"
            ],
            "image/png": "[encoded data removed]"
          },
          "metadata": {}
        }
      ],
      "source": [
        "y = data[\"target\"]\n",
        "sns.set(rc={'figure.figsize':(3,3)})\n",
        "sns.countplot(y)\n",
        "\n",
        "target_temp = data.target.value_counts()\n",
        "\n",
        "print(target_temp)"
      ]
    },
    {
      "cell_type": "code",
      "execution_count": null,
      "metadata": {
        "id": "tgpyEyzwL8dU"
      },
      "outputs": [],
      "source": [
        "data.columns = ['age', 'sex', 'chest_pain_type', 'resting_blood_pressure', 'cholesterol', 'fasting_blood_sugar', 'rest_ecg', 'max_heart_rate_achieved',\n",
        "       'exercise_induced_angina', 'st_depression', 'st_slope', 'num_major_vessels', 'thalassemia', 'target']"
      ]
    },
    {
      "cell_type": "markdown",
      "metadata": {
        "id": "uB5K_3V8MAAo"
      },
      "source": [
        "Splitting Data into Training and Testing Data"
      ]
    },
    {
      "cell_type": "code",
      "execution_count": null,
      "metadata": {
        "id": "h3PQ0sx7ME19"
      },
      "outputs": [],
      "source": [
        "from sklearn.model_selection import train_test_split\n",
        "\n",
        "predictors = data.drop(\"target\",axis=1)\n",
        "target = data[\"target\"]\n",
        "\n",
        "X_train,X_test,Y_train,Y_test = train_test_split(predictors,target,test_size=0.20,random_state=42)"
      ]
    },
    {
      "cell_type": "markdown",
      "metadata": {
        "id": "vu9vZaAOMdR9"
      },
      "source": [
        "Logistic Regression Algorithm"
      ]
    },
    {
      "cell_type": "code",
      "execution_count": null,
      "metadata": {
        "colab": {
          "base_uri": "https://localhost:8080/"
        },
        "id": "ZpVwVq59Mg75",
        "outputId": "1de1859b-b3d6-49df-b9d6-2b6261b031ce"
      },
      "outputs": [
        {
          "output_type": "stream",
          "name": "stdout",
          "text": [
            "LOGISTIC REGRESSION ALGORITHM\n",
            "The accuracy score achieved is: 83.46%\n",
            "Confusion Matrix: \n",
            " [[ 95  32]\n",
            " [ 12 127]]\n"
          ]
        },
        {
          "output_type": "stream",
          "name": "stderr",
          "text": [
            "/usr/local/lib/python3.10/dist-packages/sklearn/linear_model/_logistic.py:458: ConvergenceWarning: lbfgs failed to converge (status=1):\n",
            "STOP: TOTAL NO. of ITERATIONS REACHED LIMIT.\n",
            "\n",
            "Increase the number of iterations (max_iter) or scale the data as shown in:\n",
            "    https://scikit-learn.org/stable/modules/preprocessing.html\n",
            "Please also refer to the documentation for alternative solver options:\n",
            "    https://scikit-learn.org/stable/modules/linear_model.html#logistic-regression\n",
            "  n_iter_i = _check_optimize_result(\n"
          ]
        }
      ],
      "source": [
        "from sklearn.linear_model import LogisticRegression\n",
        "\n",
        "#Initialize Logistic Regression Classifier\n",
        "lr = LogisticRegression(random_state = 142)\n",
        "\n",
        "# Fit classifier to training data\n",
        "lr.fit(X_train,Y_train)\n",
        "\n",
        "# Make predictions on testing data\n",
        "Y_pred_lr = lr.predict(X_test)\n",
        "\n",
        "# Calculate accuracy of classifier\n",
        "score_lr = round(accuracy_score(Y_pred_lr,Y_test)*100,2)\n",
        "\n",
        "# Calculate confusion matrix of the classifier\n",
        "cm = confusion_matrix(Y_test, Y_pred_lr)\n",
        "\n",
        "# Print the performance metrics of the LR model on the testing data\n",
        "print(\"LOGISTIC REGRESSION ALGORITHM\")\n",
        "print(\"The accuracy score achieved is: {:.2f}%\".format(score_lr))\n",
        "print(\"Confusion Matrix: \\n\",cm)"
      ]
    },
    {
      "cell_type": "markdown",
      "metadata": {
        "id": "3J2-ZRHTM1K1"
      },
      "source": [
        "Naive Bayes Algorithm"
      ]
    },
    {
      "cell_type": "code",
      "execution_count": null,
      "metadata": {
        "colab": {
          "base_uri": "https://localhost:8080/"
        },
        "id": "tTCGov4_M5B9",
        "outputId": "4c388021-4a3f-4a66-c3e3-a5ffbc7e722f"
      },
      "outputs": [
        {
          "output_type": "stream",
          "name": "stdout",
          "text": [
            "NAIVE BAYES ALGORITHM\n",
            "The accuracy score achieved is: 82.71 %\n",
            "Confusion Matrix: \n",
            " [[ 95  32]\n",
            " [ 14 125]]\n"
          ]
        }
      ],
      "source": [
        "from sklearn.naive_bayes import GaussianNB\n",
        "\n",
        "#Initialize Naive Bayes Classifier\n",
        "nb = GaussianNB()\n",
        "\n",
        "# Fit classifier to training data\n",
        "nb.fit(X_train,Y_train)\n",
        "\n",
        "# Make predictions on testing data\n",
        "Y_pred_nb = nb.predict(X_test)\n",
        "\n",
        "# Calculate confusion matrix of the classifier\n",
        "cm = confusion_matrix(Y_test, Y_pred_nb)\n",
        "\n",
        "# Calculate accuracy of classifier\n",
        "score_nb = round(accuracy_score(Y_pred_nb,Y_test)*100,2)\n",
        "\n",
        "# Print the performance metrics of the NB model on the testing data\n",
        "print(\"NAIVE BAYES ALGORITHM\")\n",
        "print(\"The accuracy score achieved is: \"+str(score_nb)+\" %\")\n",
        "print(\"Confusion Matrix: \\n\",cm)"
      ]
    },
    {
      "cell_type": "markdown",
      "metadata": {
        "id": "bslz5eB8M88x"
      },
      "source": [
        "K Nearest Neighbor Algorithm"
      ]
    },
    {
      "cell_type": "code",
      "execution_count": null,
      "metadata": {
        "colab": {
          "base_uri": "https://localhost:8080/"
        },
        "id": "beASA9MBNCJN",
        "outputId": "c627607d-b516-4aad-ce64-384efe4389e1"
      },
      "outputs": [
        {
          "output_type": "stream",
          "name": "stdout",
          "text": [
            "K NEAREST NEIGHBORS ALGORITHM\n",
            "The accuracy score achieved using KNN is: 77.07 %\n",
            "Confusion Matrix: \n",
            " [[ 99  28]\n",
            " [ 33 106]]\n"
          ]
        }
      ],
      "source": [
        "from sklearn.neighbors import KNeighborsClassifier\n",
        "\n",
        "#Initialize K Neighbors Classifier\n",
        "knn = KNeighborsClassifier(n_neighbors=7)\n",
        "\n",
        "# Fit classifier to training data\n",
        "knn.fit(X_train,Y_train)\n",
        "\n",
        "# Make predictions on testing data\n",
        "Y_pred_knn=knn.predict(X_test)\n",
        "\n",
        "# Calculate confusion matrix of the classifier\n",
        "cm = confusion_matrix(Y_test, Y_pred_knn)\n",
        "\n",
        "# Calculate accuracy of classifier\n",
        "score_knn = round(accuracy_score(Y_pred_knn,Y_test)*100,2)\n",
        "\n",
        "# Print the performance metrics of the KNN model on the testing data\n",
        "print(\"K NEAREST NEIGHBORS ALGORITHM\")\n",
        "print(\"The accuracy score achieved using KNN is: \"+str(score_knn)+\" %\")\n",
        "print(\"Confusion Matrix: \\n\",cm)"
      ]
    },
    {
      "cell_type": "markdown",
      "metadata": {
        "id": "LBB5nWpbNLx4"
      },
      "source": [
        "Decision Tree Algorithm"
      ]
    },
    {
      "cell_type": "code",
      "execution_count": null,
      "metadata": {
        "colab": {
          "base_uri": "https://localhost:8080/"
        },
        "id": "mjv_Lm46NOuI",
        "outputId": "afc4e870-55fd-4a5d-8c4c-8fcfe12adda9"
      },
      "outputs": [
        {
          "output_type": "stream",
          "name": "stdout",
          "text": [
            "DESCISION TREE\n",
            "The accuracy score achieved using Decision Tree is: 100.0 %\n",
            "Confusion Matrix: \n",
            " [[127   0]\n",
            " [  0 139]]\n"
          ]
        }
      ],
      "source": [
        "from sklearn.tree import DecisionTreeClassifier\n",
        "\n",
        "max_accuracy = 0\n",
        "\n",
        "for x in range(200):\n",
        "  #Initialize Decision Tree Classifier\n",
        "    dt = DecisionTreeClassifier(random_state=x)\n",
        "\n",
        "    # Fit classifier to training data\n",
        "    dt.fit(X_train,Y_train)\n",
        "\n",
        "    # Make predictions on testing data\n",
        "    Y_pred_dt = dt.predict(X_test)\n",
        "    current_accuracy = round(accuracy_score(Y_pred_dt,Y_test)*100,2)\n",
        "    if(current_accuracy>max_accuracy):\n",
        "        max_accuracy = current_accuracy\n",
        "        best_x = x\n",
        "\n",
        "dt = DecisionTreeClassifier(random_state=best_x)\n",
        "dt.fit(X_train,Y_train)\n",
        "Y_pred_dt = dt.predict(X_test)\n",
        "\n",
        "# Calculate confusion matrix of the classifier\n",
        "cm = confusion_matrix(Y_test, Y_pred_dt)\n",
        "\n",
        "# Calculate accuracy of classifier\n",
        "score_dt = round(accuracy_score(Y_pred_dt,Y_test)*100,2)\n",
        "\n",
        "# Print the performance metrics of the DT model on the testing data\n",
        "print(\"DESCISION TREE\")\n",
        "print(\"The accuracy score achieved using Decision Tree is: \"+str(score_dt)+\" %\")\n",
        "print(\"Confusion Matrix: \\n\",cm)"
      ]
    },
    {
      "cell_type": "markdown",
      "metadata": {
        "id": "hc3mWo0tMnLB"
      },
      "source": [
        "Random Forest Algorithm"
      ]
    },
    {
      "cell_type": "code",
      "execution_count": null,
      "metadata": {
        "colab": {
          "base_uri": "https://localhost:8080/"
        },
        "id": "_BBsVrTBMrPh",
        "outputId": "40a2eb44-949a-4bdc-8c88-8c31f72309e7"
      },
      "outputs": [
        {
          "output_type": "stream",
          "name": "stdout",
          "text": [
            "RANDOM FOREST ALGORITHM\n",
            "The accuracy score achieved using Random Forest is: 100.00%\n",
            "Confusion Matrix: \n",
            " [[127   0]\n",
            " [  0 139]]\n"
          ]
        }
      ],
      "source": [
        "from sklearn.ensemble import RandomForestClassifier\n",
        "\n",
        "#Initialize Random Forest Classifier\n",
        "rf = RandomForestClassifier()\n",
        "\n",
        "# Fit classifier to training data\n",
        "rf.fit(X_train, Y_train)\n",
        "\n",
        "# Make predictions on testing data\n",
        "Y_pred_rf = rf.predict(X_test)\n",
        "\n",
        "# Calculate confusion matrix of the classifier\n",
        "cm = confusion_matrix(Y_test, Y_pred_rf)\n",
        "\n",
        "# Calculate accuracy of classifier\n",
        "score_rf = round(accuracy_score(Y_pred_rf,Y_test)*100,2)\n",
        "\n",
        "# Print the performance metrics of the RF model on the testing data\n",
        "print(\"RANDOM FOREST ALGORITHM\")\n",
        "print('The accuracy score achieved using Random Forest is: {:.2f}%'.format(score_rf))\n",
        "print(\"Confusion Matrix: \\n\",cm)"
      ]
    },
    {
      "cell_type": "markdown",
      "metadata": {
        "id": "vl-kFaddNVYa"
      },
      "source": [
        "Support Vector Machine Algorithm"
      ]
    },
    {
      "cell_type": "code",
      "execution_count": null,
      "metadata": {
        "colab": {
          "base_uri": "https://localhost:8080/"
        },
        "id": "bidS7rvKNYbo",
        "outputId": "49d81219-38ed-4d1e-aff3-1862d4904a0a"
      },
      "outputs": [
        {
          "output_type": "stream",
          "name": "stdout",
          "text": [
            "SUPPORT VECTOR MACHINE ALGORITHM\n",
            "The accuracy score achieved using Decision Tree is: 71.05 %\n",
            "Confusion Matrix: \n",
            " [[ 76  51]\n",
            " [ 26 113]]\n"
          ]
        }
      ],
      "source": [
        "from sklearn.svm import SVC\n",
        "\n",
        "# Initialize SVM classifier\n",
        "svm = SVC()\n",
        "\n",
        "# Fit classifier to training data\n",
        "svm.fit(X_train, Y_train)\n",
        "\n",
        "# Make predictions on testing data\n",
        "Y_pred_svm = svm.predict(X_test)\n",
        "\n",
        "# Calculate confusion matrix of the classifier\n",
        "cm = confusion_matrix(Y_test, Y_pred_svm)\n",
        "\n",
        "# Calculate accuracy of classifier\n",
        "score_svm = round(accuracy_score(Y_pred_svm,Y_test)*100,2)\n",
        "\n",
        "# Print the performance metrics of the SVM model on the testing data\n",
        "print(\"SUPPORT VECTOR MACHINE ALGORITHM\")\n",
        "print(\"The accuracy score achieved using Decision Tree is: \"+str(score_svm)+\" %\")\n",
        "print(\"Confusion Matrix: \\n\",cm)"
      ]
    },
    {
      "cell_type": "markdown",
      "metadata": {
        "id": "0qekmGGuNwW4"
      },
      "source": [
        "\n",
        "Printing Accuracies of All Algorithms"
      ]
    },
    {
      "cell_type": "code",
      "execution_count": null,
      "metadata": {
        "colab": {
          "base_uri": "https://localhost:8080/"
        },
        "id": "mIlQeBA6N2LH",
        "outputId": "ddc96d95-524c-46a1-d9c9-902a164762d3"
      },
      "outputs": [
        {
          "output_type": "stream",
          "name": "stdout",
          "text": [
            "The accuracy score achieved using Logistic Regression is: 83.46 %\n",
            "The accuracy score achieved using Naive Bayes is: 82.71 %\n",
            "The accuracy score achieved using K-Nearest Neighbors is: 77.07 %\n",
            "The accuracy score achieved using Decision Tree is: 100.0 %\n",
            "The accuracy score achieved using Random Forest is: 100.0 %\n",
            "The accuracy score achieved using Support Vector Machine is: 71.05 %\n"
          ]
        }
      ],
      "source": [
        "scores = [score_lr,score_nb,score_knn,score_dt,score_rf,score_svm]\n",
        "algorithms = [\"Logistic Regression\",\"Naive Bayes\",\"K-Nearest Neighbors\",\"Decision Tree\",\"Random Forest\",\"Support Vector Machine\"]    \n",
        "\n",
        "for i in range(len(algorithms)):\n",
        "    print(\"The accuracy score achieved using \"+algorithms[i]+\" is: \"+str(scores[i])+\" %\")"
      ]
    },
    {
      "cell_type": "markdown",
      "metadata": {
        "id": "JBtslfo4N8zN"
      },
      "source": [
        "Graph"
      ]
    },
    {
      "cell_type": "code",
      "execution_count": null,
      "metadata": {
        "colab": {
          "base_uri": "https://localhost:8080/",
          "height": 436
        },
        "id": "9hK5h9ljN_gx",
        "outputId": "3ae1974f-c1cd-49d7-97a9-2523587e1d15"
      },
      "outputs": [
        {
          "output_type": "execute_result",
          "data": {
            "text/plain": [
              "<Axes: title={'center': 'Performance Analysis of Machine Learning Algorithms'}, xlabel='Algorithms', ylabel='Accuracy score'>"
            ]
          },
          "metadata": {},
          "execution_count": 18
        },
        {
          "output_type": "display_data",
          "data": {
            "text/plain": [
              "<Figure size 1300x400 with 1 Axes>"
            ],
            "image/png": "[encoded data removed]"
          },
          "metadata": {}
        }
      ],
      "source": [
        "sns.set(rc={'figure.figsize':(13,4)})\n",
        "plt.title(\"Performance Analysis of Machine Learning Algorithms\")\n",
        "plt.xlabel(\"Algorithms\")\n",
        "plt.ylabel(\"Accuracy score\")\n",
        "\n",
        "sns.barplot(algorithms,scores)"
      ]
    }
  ],
  "metadata": {
    "colab": {
      "provenance": []
    },
    "kernelspec": {
      "display_name": "Python 3",
      "name": "python3"
    },
    "language_info": {
      "name": "python"
    }
  },
  "nbformat": 4,
  "nbformat_minor": 0
}